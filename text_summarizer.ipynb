{
  "cells": [
    {
      "cell_type": "markdown",
      "metadata": {
        "id": "view-in-github",
        "colab_type": "text"
      },
      "source": [
        "<a href=\"https://colab.research.google.com/github/shivansh-yashasvi/Project-6--SmallTalks-End-to-End-Encrypted-Summarizer-Chat/blob/main/text_summarizer.ipynb\" target=\"_parent\"><img src=\"https://colab.research.google.com/assets/colab-badge.svg\" alt=\"Open In Colab\"/></a>"
      ]
    },
    {
      "cell_type": "code",
      "execution_count": 1,
      "metadata": {
        "id": "YKNCAxOZvkNo"
      },
      "outputs": [],
      "source": [
        "DOCUMENT = \"\"\"\n",
        "While everyone recognize that Instant Messaging is used most by adolescents around the world, there seem to be talks on how it affects a student life on academics. \n",
        "Parents and teachers are becoming concerned by the effects of Instant messaging on the teenagers, who spend on average 31 hours a week online according to a survey done by \n",
        "(telegraph), which most of the time is spent chatting with friends on MSN, YOUTUBE and online chat rooms. Not only does IM affect the academic life of student in Universities \n",
        "it has even begun to reach into the minds and lifestyle of teenager’s as young as 13 years of age. Most of the students end up wasting their time in unproductive activities \n",
        "that have no learning outcomes or benefits. They don’t know that time and tide wait for none. Students take a five-minute break while studying but by the time they return \n",
        "it’s already been an hour. Another one is that some students are not serious about time management. They set very high aims for themselves when it comes to studying in a \n",
        "fit of catch-up with the syllabus, or like in a lot of cases, just to pass the test the next morning. Pulling an all-nighters and trying to study for long hours without \n",
        "taking breaks is also inefficient. This, in fact, is quite a bad practice as one can only concentrate fully for a limited period beyond that our brain stops absorbing any \n",
        "information whatsoever. This phenomenon is often termed study burnout. Also, make sure you have all your study essentials next to you before you settle down to study so as \n",
        "not to end up wasting time looking for them once you start studying. It is a waste of time to log into social media sites if they are not your top interest. The challenge \n",
        "with the young generation is that they can't tell when they become addicts to social media networking. Social media should not become a stumbling block on your road to success.  \n",
        "It's paramount to spend some time chatting with friends on social issues in life. Hence this is the waste of time which we will like to reduce with our project which has a \n",
        "message summarizer in it.\n",
        "\"\"\""
      ]
    },
    {
      "cell_type": "markdown",
      "metadata": {
        "id": "H0n2x-EMvkN2"
      },
      "source": [
        "# Text Wrangling"
      ]
    },
    {
      "cell_type": "code",
      "execution_count": null,
      "metadata": {
        "id": "4HoxRdWvvkN4"
      },
      "outputs": [],
      "source": [
        "import re\n",
        "\n",
        "DOCUMENT = re.sub(r'\\n|\\r', ' ', DOCUMENT)\n",
        "DOCUMENT = re.sub(r' +', ' ', DOCUMENT)\n",
        "DOCUMENT = DOCUMENT.strip()"
      ]
    },
    {
      "cell_type": "code",
      "execution_count": null,
      "metadata": {
        "colab": {
          "base_uri": "https://localhost:8080/"
        },
        "id": "_DOnWvPxvkN5",
        "outputId": "957c07c4-4ab1-4502-f6c8-3550d1837704"
      },
      "outputs": [
        {
          "output_type": "stream",
          "name": "stdout",
          "text": [
            "Parents and teachers are becoming concerned by the effects of Instant messaging on the teenagers, who spend on average 31 hours a week online according to a survey done by (telegraph), which most of the time is spent chatting with friends on MSN, YOUTUBE and online chat rooms.\n",
            "Students take a five-minute break while studying but by the time they return it’s already been an hour.\n",
            "It is a waste of time to log into social media sites if they are not your top interest.\n"
          ]
        }
      ],
      "source": [
        "from gensim.summarization import summarize\n",
        "\n",
        "print(summarize(DOCUMENT, ratio=0.2, split=False))"
      ]
    },
    {
      "cell_type": "code",
      "execution_count": null,
      "metadata": {
        "colab": {
          "base_uri": "https://localhost:8080/"
        },
        "id": "auujLVdbvkN8",
        "outputId": "70515889-bb5f-4177-ebce-e6184362d23b"
      },
      "outputs": [
        {
          "output_type": "stream",
          "name": "stderr",
          "text": [
            "[nltk_data] Downloading package punkt to /root/nltk_data...\n",
            "[nltk_data]   Unzipping tokenizers/punkt.zip.\n"
          ]
        },
        {
          "output_type": "execute_result",
          "data": {
            "text/plain": [
              "17"
            ]
          },
          "metadata": {},
          "execution_count": 7
        }
      ],
      "source": [
        "import nltk\n",
        "nltk.download('punkt')\n",
        "sentences = nltk.sent_tokenize(DOCUMENT)\n",
        "len(sentences)"
      ]
    },
    {
      "cell_type": "code",
      "execution_count": null,
      "metadata": {
        "colab": {
          "base_uri": "https://localhost:8080/"
        },
        "id": "Z62LhG2NvkN9",
        "outputId": "f197ff22-ef8d-4967-c34c-bf62a65fff88"
      },
      "outputs": [
        {
          "output_type": "stream",
          "name": "stderr",
          "text": [
            "[nltk_data] Downloading package stopwords to /root/nltk_data...\n",
            "[nltk_data]   Unzipping corpora/stopwords.zip.\n"
          ]
        }
      ],
      "source": [
        "import numpy as np\n",
        "import re\n",
        "nltk.download('stopwords')\n",
        "stop_words = nltk.corpus.stopwords.words('english')\n",
        "\n",
        "def normalize_document(doc):\n",
        "    # lower case and remove special characters\\whitespaces\n",
        "    doc = re.sub(r'[^a-zA-Z\\s]', '', doc, re.I|re.A)\n",
        "    doc = doc.lower()\n",
        "    doc = doc.strip()\n",
        "    # tokenize document\n",
        "    tokens = nltk.word_tokenize(doc)\n",
        "    # filter stopwords out of document\n",
        "    filtered_tokens = [token for token in tokens if token not in stop_words]\n",
        "    # re-create document from filtered tokens\n",
        "    doc = ' '.join(filtered_tokens)\n",
        "    return doc\n",
        "\n",
        "normalize_corpus = np.vectorize(normalize_document)"
      ]
    },
    {
      "cell_type": "code",
      "execution_count": null,
      "metadata": {
        "colab": {
          "base_uri": "https://localhost:8080/"
        },
        "id": "G5JgwiZ6vkN9",
        "outputId": "2410a84f-2ef4-44bb-815d-563d31d24e24"
      },
      "outputs": [
        {
          "output_type": "execute_result",
          "data": {
            "text/plain": [
              "array(['everyone recognize instant messaging used adolescents around world seem talks affects student life academics',\n",
              "       'parents teachers becoming concerned effects instant messaging teenagers spend average hours week online according survey done telegraph time spent chatting friends msn youtube online chat rooms',\n",
              "       'im affect academic life student universities even begun reach minds lifestyle teenagers young years age'],\n",
              "      dtype='<U193')"
            ]
          },
          "metadata": {},
          "execution_count": 9
        }
      ],
      "source": [
        "norm_sentences = normalize_corpus(sentences)\n",
        "norm_sentences[:3]"
      ]
    },
    {
      "cell_type": "markdown",
      "metadata": {
        "id": "UE7QCDwovkN-"
      },
      "source": [
        "# Text Representation"
      ]
    },
    {
      "cell_type": "code",
      "execution_count": null,
      "metadata": {
        "colab": {
          "base_uri": "https://localhost:8080/",
          "height": 435
        },
        "id": "VUsYOdIZvkN-",
        "outputId": "35d34eca-4b2f-498e-9807-ef99415941e5"
      },
      "outputs": [
        {
          "output_type": "stream",
          "name": "stdout",
          "text": [
            "(146, 17)\n"
          ]
        },
        {
          "output_type": "stream",
          "name": "stderr",
          "text": [
            "/usr/local/lib/python3.7/dist-packages/sklearn/utils/deprecation.py:87: FutureWarning: Function get_feature_names is deprecated; get_feature_names is deprecated in 1.0 and will be removed in 1.2. Please use get_feature_names_out instead.\n",
            "  warnings.warn(msg, category=FutureWarning)\n"
          ]
        },
        {
          "output_type": "execute_result",
          "data": {
            "text/plain": [
              "               0    1     2     3    4    5    6    7    8     9    10   11  \\\n",
              "absorbing    0.00  0.0  0.00  0.00  0.0  0.0  0.0  0.0  0.0  0.26  0.0  0.0   \n",
              "academic     0.00  0.0  0.27  0.00  0.0  0.0  0.0  0.0  0.0  0.00  0.0  0.0   \n",
              "academics    0.28  0.0  0.00  0.00  0.0  0.0  0.0  0.0  0.0  0.00  0.0  0.0   \n",
              "according    0.00  0.2  0.00  0.00  0.0  0.0  0.0  0.0  0.0  0.00  0.0  0.0   \n",
              "activities   0.00  0.0  0.00  0.37  0.0  0.0  0.0  0.0  0.0  0.00  0.0  0.0   \n",
              "addicts      0.00  0.0  0.00  0.00  0.0  0.0  0.0  0.0  0.0  0.00  0.0  0.0   \n",
              "adolescents  0.28  0.0  0.00  0.00  0.0  0.0  0.0  0.0  0.0  0.00  0.0  0.0   \n",
              "affect       0.00  0.0  0.27  0.00  0.0  0.0  0.0  0.0  0.0  0.00  0.0  0.0   \n",
              "affects      0.28  0.0  0.00  0.00  0.0  0.0  0.0  0.0  0.0  0.00  0.0  0.0   \n",
              "age          0.00  0.0  0.27  0.00  0.0  0.0  0.0  0.0  0.0  0.00  0.0  0.0   \n",
              "\n",
              "              12    13   14   15   16  \n",
              "absorbing    0.0  0.00  0.0  0.0  0.0  \n",
              "academic     0.0  0.00  0.0  0.0  0.0  \n",
              "academics    0.0  0.00  0.0  0.0  0.0  \n",
              "according    0.0  0.00  0.0  0.0  0.0  \n",
              "activities   0.0  0.00  0.0  0.0  0.0  \n",
              "addicts      0.0  0.34  0.0  0.0  0.0  \n",
              "adolescents  0.0  0.00  0.0  0.0  0.0  \n",
              "affect       0.0  0.00  0.0  0.0  0.0  \n",
              "affects      0.0  0.00  0.0  0.0  0.0  \n",
              "age          0.0  0.00  0.0  0.0  0.0  "
            ],
            "text/html": [
              "\n",
              "  <div id=\"df-d6e8a273-25c8-4e15-8524-13b4b310cd97\">\n",
              "    <div class=\"colab-df-container\">\n",
              "      <div>\n",
              "<style scoped>\n",
              "    .dataframe tbody tr th:only-of-type {\n",
              "        vertical-align: middle;\n",
              "    }\n",
              "\n",
              "    .dataframe tbody tr th {\n",
              "        vertical-align: top;\n",
              "    }\n",
              "\n",
              "    .dataframe thead th {\n",
              "        text-align: right;\n",
              "    }\n",
              "</style>\n",
              "<table border=\"1\" class=\"dataframe\">\n",
              "  <thead>\n",
              "    <tr style=\"text-align: right;\">\n",
              "      <th></th>\n",
              "      <th>0</th>\n",
              "      <th>1</th>\n",
              "      <th>2</th>\n",
              "      <th>3</th>\n",
              "      <th>4</th>\n",
              "      <th>5</th>\n",
              "      <th>6</th>\n",
              "      <th>7</th>\n",
              "      <th>8</th>\n",
              "      <th>9</th>\n",
              "      <th>10</th>\n",
              "      <th>11</th>\n",
              "      <th>12</th>\n",
              "      <th>13</th>\n",
              "      <th>14</th>\n",
              "      <th>15</th>\n",
              "      <th>16</th>\n",
              "    </tr>\n",
              "  </thead>\n",
              "  <tbody>\n",
              "    <tr>\n",
              "      <th>absorbing</th>\n",
              "      <td>0.00</td>\n",
              "      <td>0.0</td>\n",
              "      <td>0.00</td>\n",
              "      <td>0.00</td>\n",
              "      <td>0.0</td>\n",
              "      <td>0.0</td>\n",
              "      <td>0.0</td>\n",
              "      <td>0.0</td>\n",
              "      <td>0.0</td>\n",
              "      <td>0.26</td>\n",
              "      <td>0.0</td>\n",
              "      <td>0.0</td>\n",
              "      <td>0.0</td>\n",
              "      <td>0.00</td>\n",
              "      <td>0.0</td>\n",
              "      <td>0.0</td>\n",
              "      <td>0.0</td>\n",
              "    </tr>\n",
              "    <tr>\n",
              "      <th>academic</th>\n",
              "      <td>0.00</td>\n",
              "      <td>0.0</td>\n",
              "      <td>0.27</td>\n",
              "      <td>0.00</td>\n",
              "      <td>0.0</td>\n",
              "      <td>0.0</td>\n",
              "      <td>0.0</td>\n",
              "      <td>0.0</td>\n",
              "      <td>0.0</td>\n",
              "      <td>0.00</td>\n",
              "      <td>0.0</td>\n",
              "      <td>0.0</td>\n",
              "      <td>0.0</td>\n",
              "      <td>0.00</td>\n",
              "      <td>0.0</td>\n",
              "      <td>0.0</td>\n",
              "      <td>0.0</td>\n",
              "    </tr>\n",
              "    <tr>\n",
              "      <th>academics</th>\n",
              "      <td>0.28</td>\n",
              "      <td>0.0</td>\n",
              "      <td>0.00</td>\n",
              "      <td>0.00</td>\n",
              "      <td>0.0</td>\n",
              "      <td>0.0</td>\n",
              "      <td>0.0</td>\n",
              "      <td>0.0</td>\n",
              "      <td>0.0</td>\n",
              "      <td>0.00</td>\n",
              "      <td>0.0</td>\n",
              "      <td>0.0</td>\n",
              "      <td>0.0</td>\n",
              "      <td>0.00</td>\n",
              "      <td>0.0</td>\n",
              "      <td>0.0</td>\n",
              "      <td>0.0</td>\n",
              "    </tr>\n",
              "    <tr>\n",
              "      <th>according</th>\n",
              "      <td>0.00</td>\n",
              "      <td>0.2</td>\n",
              "      <td>0.00</td>\n",
              "      <td>0.00</td>\n",
              "      <td>0.0</td>\n",
              "      <td>0.0</td>\n",
              "      <td>0.0</td>\n",
              "      <td>0.0</td>\n",
              "      <td>0.0</td>\n",
              "      <td>0.00</td>\n",
              "      <td>0.0</td>\n",
              "      <td>0.0</td>\n",
              "      <td>0.0</td>\n",
              "      <td>0.00</td>\n",
              "      <td>0.0</td>\n",
              "      <td>0.0</td>\n",
              "      <td>0.0</td>\n",
              "    </tr>\n",
              "    <tr>\n",
              "      <th>activities</th>\n",
              "      <td>0.00</td>\n",
              "      <td>0.0</td>\n",
              "      <td>0.00</td>\n",
              "      <td>0.37</td>\n",
              "      <td>0.0</td>\n",
              "      <td>0.0</td>\n",
              "      <td>0.0</td>\n",
              "      <td>0.0</td>\n",
              "      <td>0.0</td>\n",
              "      <td>0.00</td>\n",
              "      <td>0.0</td>\n",
              "      <td>0.0</td>\n",
              "      <td>0.0</td>\n",
              "      <td>0.00</td>\n",
              "      <td>0.0</td>\n",
              "      <td>0.0</td>\n",
              "      <td>0.0</td>\n",
              "    </tr>\n",
              "    <tr>\n",
              "      <th>addicts</th>\n",
              "      <td>0.00</td>\n",
              "      <td>0.0</td>\n",
              "      <td>0.00</td>\n",
              "      <td>0.00</td>\n",
              "      <td>0.0</td>\n",
              "      <td>0.0</td>\n",
              "      <td>0.0</td>\n",
              "      <td>0.0</td>\n",
              "      <td>0.0</td>\n",
              "      <td>0.00</td>\n",
              "      <td>0.0</td>\n",
              "      <td>0.0</td>\n",
              "      <td>0.0</td>\n",
              "      <td>0.34</td>\n",
              "      <td>0.0</td>\n",
              "      <td>0.0</td>\n",
              "      <td>0.0</td>\n",
              "    </tr>\n",
              "    <tr>\n",
              "      <th>adolescents</th>\n",
              "      <td>0.28</td>\n",
              "      <td>0.0</td>\n",
              "      <td>0.00</td>\n",
              "      <td>0.00</td>\n",
              "      <td>0.0</td>\n",
              "      <td>0.0</td>\n",
              "      <td>0.0</td>\n",
              "      <td>0.0</td>\n",
              "      <td>0.0</td>\n",
              "      <td>0.00</td>\n",
              "      <td>0.0</td>\n",
              "      <td>0.0</td>\n",
              "      <td>0.0</td>\n",
              "      <td>0.00</td>\n",
              "      <td>0.0</td>\n",
              "      <td>0.0</td>\n",
              "      <td>0.0</td>\n",
              "    </tr>\n",
              "    <tr>\n",
              "      <th>affect</th>\n",
              "      <td>0.00</td>\n",
              "      <td>0.0</td>\n",
              "      <td>0.27</td>\n",
              "      <td>0.00</td>\n",
              "      <td>0.0</td>\n",
              "      <td>0.0</td>\n",
              "      <td>0.0</td>\n",
              "      <td>0.0</td>\n",
              "      <td>0.0</td>\n",
              "      <td>0.00</td>\n",
              "      <td>0.0</td>\n",
              "      <td>0.0</td>\n",
              "      <td>0.0</td>\n",
              "      <td>0.00</td>\n",
              "      <td>0.0</td>\n",
              "      <td>0.0</td>\n",
              "      <td>0.0</td>\n",
              "    </tr>\n",
              "    <tr>\n",
              "      <th>affects</th>\n",
              "      <td>0.28</td>\n",
              "      <td>0.0</td>\n",
              "      <td>0.00</td>\n",
              "      <td>0.00</td>\n",
              "      <td>0.0</td>\n",
              "      <td>0.0</td>\n",
              "      <td>0.0</td>\n",
              "      <td>0.0</td>\n",
              "      <td>0.0</td>\n",
              "      <td>0.00</td>\n",
              "      <td>0.0</td>\n",
              "      <td>0.0</td>\n",
              "      <td>0.0</td>\n",
              "      <td>0.00</td>\n",
              "      <td>0.0</td>\n",
              "      <td>0.0</td>\n",
              "      <td>0.0</td>\n",
              "    </tr>\n",
              "    <tr>\n",
              "      <th>age</th>\n",
              "      <td>0.00</td>\n",
              "      <td>0.0</td>\n",
              "      <td>0.27</td>\n",
              "      <td>0.00</td>\n",
              "      <td>0.0</td>\n",
              "      <td>0.0</td>\n",
              "      <td>0.0</td>\n",
              "      <td>0.0</td>\n",
              "      <td>0.0</td>\n",
              "      <td>0.00</td>\n",
              "      <td>0.0</td>\n",
              "      <td>0.0</td>\n",
              "      <td>0.0</td>\n",
              "      <td>0.00</td>\n",
              "      <td>0.0</td>\n",
              "      <td>0.0</td>\n",
              "      <td>0.0</td>\n",
              "    </tr>\n",
              "  </tbody>\n",
              "</table>\n",
              "</div>\n",
              "      <button class=\"colab-df-convert\" onclick=\"convertToInteractive('df-d6e8a273-25c8-4e15-8524-13b4b310cd97')\"\n",
              "              title=\"Convert this dataframe to an interactive table.\"\n",
              "              style=\"display:none;\">\n",
              "        \n",
              "  <svg xmlns=\"http://www.w3.org/2000/svg\" height=\"24px\"viewBox=\"0 0 24 24\"\n",
              "       width=\"24px\">\n",
              "    <path d=\"M0 0h24v24H0V0z\" fill=\"none\"/>\n",
              "    <path d=\"M18.56 5.44l.94 2.06.94-2.06 2.06-.94-2.06-.94-.94-2.06-.94 2.06-2.06.94zm-11 1L8.5 8.5l.94-2.06 2.06-.94-2.06-.94L8.5 2.5l-.94 2.06-2.06.94zm10 10l.94 2.06.94-2.06 2.06-.94-2.06-.94-.94-2.06-.94 2.06-2.06.94z\"/><path d=\"M17.41 7.96l-1.37-1.37c-.4-.4-.92-.59-1.43-.59-.52 0-1.04.2-1.43.59L10.3 9.45l-7.72 7.72c-.78.78-.78 2.05 0 2.83L4 21.41c.39.39.9.59 1.41.59.51 0 1.02-.2 1.41-.59l7.78-7.78 2.81-2.81c.8-.78.8-2.07 0-2.86zM5.41 20L4 18.59l7.72-7.72 1.47 1.35L5.41 20z\"/>\n",
              "  </svg>\n",
              "      </button>\n",
              "      \n",
              "  <style>\n",
              "    .colab-df-container {\n",
              "      display:flex;\n",
              "      flex-wrap:wrap;\n",
              "      gap: 12px;\n",
              "    }\n",
              "\n",
              "    .colab-df-convert {\n",
              "      background-color: #E8F0FE;\n",
              "      border: none;\n",
              "      border-radius: 50%;\n",
              "      cursor: pointer;\n",
              "      display: none;\n",
              "      fill: #1967D2;\n",
              "      height: 32px;\n",
              "      padding: 0 0 0 0;\n",
              "      width: 32px;\n",
              "    }\n",
              "\n",
              "    .colab-df-convert:hover {\n",
              "      background-color: #E2EBFA;\n",
              "      box-shadow: 0px 1px 2px rgba(60, 64, 67, 0.3), 0px 1px 3px 1px rgba(60, 64, 67, 0.15);\n",
              "      fill: #174EA6;\n",
              "    }\n",
              "\n",
              "    [theme=dark] .colab-df-convert {\n",
              "      background-color: #3B4455;\n",
              "      fill: #D2E3FC;\n",
              "    }\n",
              "\n",
              "    [theme=dark] .colab-df-convert:hover {\n",
              "      background-color: #434B5C;\n",
              "      box-shadow: 0px 1px 3px 1px rgba(0, 0, 0, 0.15);\n",
              "      filter: drop-shadow(0px 1px 2px rgba(0, 0, 0, 0.3));\n",
              "      fill: #FFFFFF;\n",
              "    }\n",
              "  </style>\n",
              "\n",
              "      <script>\n",
              "        const buttonEl =\n",
              "          document.querySelector('#df-d6e8a273-25c8-4e15-8524-13b4b310cd97 button.colab-df-convert');\n",
              "        buttonEl.style.display =\n",
              "          google.colab.kernel.accessAllowed ? 'block' : 'none';\n",
              "\n",
              "        async function convertToInteractive(key) {\n",
              "          const element = document.querySelector('#df-d6e8a273-25c8-4e15-8524-13b4b310cd97');\n",
              "          const dataTable =\n",
              "            await google.colab.kernel.invokeFunction('convertToInteractive',\n",
              "                                                     [key], {});\n",
              "          if (!dataTable) return;\n",
              "\n",
              "          const docLinkHtml = 'Like what you see? Visit the ' +\n",
              "            '<a target=\"_blank\" href=https://colab.research.google.com/notebooks/data_table.ipynb>data table notebook</a>'\n",
              "            + ' to learn more about interactive tables.';\n",
              "          element.innerHTML = '';\n",
              "          dataTable['output_type'] = 'display_data';\n",
              "          await google.colab.output.renderOutput(dataTable, element);\n",
              "          const docLink = document.createElement('div');\n",
              "          docLink.innerHTML = docLinkHtml;\n",
              "          element.appendChild(docLink);\n",
              "        }\n",
              "      </script>\n",
              "    </div>\n",
              "  </div>\n",
              "  "
            ]
          },
          "metadata": {},
          "execution_count": 10
        }
      ],
      "source": [
        "from sklearn.feature_extraction.text import TfidfVectorizer\n",
        "import pandas as pd\n",
        "\n",
        "tv = TfidfVectorizer(min_df=0., max_df=1., use_idf=True)\n",
        "dt_matrix = tv.fit_transform(norm_sentences)\n",
        "dt_matrix = dt_matrix.toarray()\n",
        "\n",
        "vocab = tv.get_feature_names()\n",
        "td_matrix = dt_matrix.T\n",
        "print(td_matrix.shape)\n",
        "pd.DataFrame(np.round(td_matrix, 2), index=vocab).head(10)"
      ]
    },
    {
      "cell_type": "markdown",
      "metadata": {
        "id": "uVniCYY3vkN_"
      },
      "source": [
        "# Latent Semantic Analysis"
      ]
    },
    {
      "cell_type": "code",
      "execution_count": null,
      "metadata": {
        "id": "KacC3J9mvkN_"
      },
      "outputs": [],
      "source": [
        "from scipy.sparse.linalg import svds\n",
        "    \n",
        "def low_rank_svd(matrix, singular_count=2):\n",
        "    u, s, vt = svds(matrix, k=singular_count)\n",
        "    return u, s, vt"
      ]
    },
    {
      "cell_type": "code",
      "execution_count": null,
      "metadata": {
        "colab": {
          "base_uri": "https://localhost:8080/"
        },
        "id": "cOa8FcIIvkOA",
        "outputId": "eca0916b-1e43-4548-e84d-7e971983cb90"
      },
      "outputs": [
        {
          "output_type": "stream",
          "name": "stdout",
          "text": [
            "(146, 3) (3,) (3, 17)\n"
          ]
        }
      ],
      "source": [
        "num_sentences = 8\n",
        "num_topics = 3\n",
        "\n",
        "u, s, vt = low_rank_svd(td_matrix, singular_count=num_topics)  \n",
        "print(u.shape, s.shape, vt.shape)\n",
        "term_topic_mat, singular_values, topic_document_mat = u, s, vt"
      ]
    },
    {
      "cell_type": "code",
      "execution_count": null,
      "metadata": {
        "id": "ESi982dGvkOA"
      },
      "outputs": [],
      "source": [
        "# remove singular values below threshold                                         \n",
        "sv_threshold = 0.5\n",
        "min_sigma_value = max(singular_values) * sv_threshold\n",
        "singular_values[singular_values < min_sigma_value] = 0"
      ]
    },
    {
      "cell_type": "code",
      "execution_count": null,
      "metadata": {
        "colab": {
          "base_uri": "https://localhost:8080/"
        },
        "id": "-N2WZDgBvkOB",
        "outputId": "c6ff6db7-0f72-4f0b-b939-c5bac33f40b4"
      },
      "outputs": [
        {
          "output_type": "execute_result",
          "data": {
            "text/plain": [
              "array([0.51401599, 0.6438712 , 0.40669288, 0.53536959, 0.22801584,\n",
              "       0.45349812, 0.43020918, 0.25540473, 0.33670715, 0.08413097,\n",
              "       0.34477013, 0.66733788, 0.63905868, 0.67851129, 0.7144672 ,\n",
              "       0.66494308, 0.3014462 ])"
            ]
          },
          "metadata": {},
          "execution_count": 14
        }
      ],
      "source": [
        "salience_scores = np.sqrt(np.dot(np.square(singular_values), \n",
        "                                 np.square(topic_document_mat)))\n",
        "salience_scores"
      ]
    },
    {
      "cell_type": "code",
      "execution_count": null,
      "metadata": {
        "id": "k_asXi3lvkOB"
      },
      "outputs": [],
      "source": [
        "top_sentence_indices = (-salience_scores).argsort()[:num_sentences]\n",
        "top_sentence_indices.sort()"
      ]
    },
    {
      "cell_type": "code",
      "execution_count": null,
      "metadata": {
        "colab": {
          "base_uri": "https://localhost:8080/"
        },
        "id": "UKV2-J0LvkOC",
        "outputId": "634b5e47-1436-419a-8a4f-c113c1ee8be6"
      },
      "outputs": [
        {
          "output_type": "stream",
          "name": "stdout",
          "text": [
            "While everyone recognize that Instant Messaging is used most by adolescents around the world, there seem to be talks on how it affects a student life on academics.\n",
            "Parents and teachers are becoming concerned by the effects of Instant messaging on the teenagers, who spend on average 31 hours a week online according to a survey done by (telegraph), which most of the time is spent chatting with friends on MSN, YOUTUBE and online chat rooms.\n",
            "Most of the students end up wasting their time in unproductive activities that have no learning outcomes or benefits.\n",
            "Also, make sure you have all your study essentials next to you before you settle down to study so as not to end up wasting time looking for them once you start studying.\n",
            "It is a waste of time to log into social media sites if they are not your top interest.\n",
            "The challenge with the young generation is that they can't tell when they become addicts to social media networking.\n",
            "Social media should not become a stumbling block on your road to success.\n",
            "It's paramount to spend some time chatting with friends on social issues in life.\n"
          ]
        }
      ],
      "source": [
        "print('\\n'.join(np.array(sentences)[top_sentence_indices]))"
      ]
    },
    {
      "cell_type": "markdown",
      "metadata": {
        "id": "NF44fsFyvkOC"
      },
      "source": [
        "# TextRank"
      ]
    },
    {
      "cell_type": "code",
      "execution_count": null,
      "metadata": {
        "colab": {
          "base_uri": "https://localhost:8080/"
        },
        "id": "HmeYwhWevkOD",
        "outputId": "6a885fd7-a148-4df5-8cd8-48f655d36e82"
      },
      "outputs": [
        {
          "output_type": "stream",
          "name": "stdout",
          "text": [
            "(17, 17)\n"
          ]
        },
        {
          "output_type": "execute_result",
          "data": {
            "text/plain": [
              "array([[1.   , 0.084, 0.103, 0.   , 0.   , 0.   , 0.   , 0.   , 0.   ,\n",
              "        0.   , 0.   , 0.   , 0.   , 0.   , 0.   , 0.072, 0.   ],\n",
              "       [0.084, 1.   , 0.04 , 0.018, 0.021, 0.018, 0.023, 0.   , 0.047,\n",
              "        0.   , 0.   , 0.014, 0.02 , 0.   , 0.   , 0.211, 0.019],\n",
              "       [0.103, 0.04 , 1.   , 0.   , 0.   , 0.   , 0.   , 0.   , 0.   ,\n",
              "        0.   , 0.   , 0.   , 0.   , 0.07 , 0.   , 0.069, 0.   ],\n",
              "       [0.   , 0.018, 0.   , 1.   , 0.04 , 0.116, 0.147, 0.   , 0.   ,\n",
              "        0.   , 0.   , 0.185, 0.037, 0.   , 0.   , 0.038, 0.035],\n",
              "       [0.   , 0.021, 0.   , 0.04 , 1.   , 0.039, 0.05 , 0.   , 0.   ,\n",
              "        0.   , 0.   , 0.031, 0.043, 0.   , 0.   , 0.045, 0.041],\n",
              "       [0.   , 0.018, 0.   , 0.116, 0.039, 1.   , 0.146, 0.06 , 0.   ,\n",
              "        0.   , 0.   , 0.089, 0.036, 0.   , 0.   , 0.038, 0.035],\n",
              "       [0.   , 0.023, 0.   , 0.147, 0.05 , 0.146, 1.   , 0.   , 0.   ,\n",
              "        0.092, 0.   , 0.033, 0.046, 0.   , 0.   , 0.048, 0.044],\n",
              "       [0.   , 0.   , 0.   , 0.   , 0.   , 0.06 , 0.   , 1.   , 0.   ,\n",
              "        0.   , 0.   , 0.104, 0.   , 0.   , 0.   , 0.   , 0.078],\n",
              "       [0.   , 0.047, 0.   , 0.   , 0.   , 0.   , 0.   , 0.   , 1.   ,\n",
              "        0.   , 0.09 , 0.178, 0.   , 0.   , 0.   , 0.   , 0.   ],\n",
              "       [0.   , 0.   , 0.   , 0.   , 0.   , 0.   , 0.092, 0.   , 0.   ,\n",
              "        1.   , 0.   , 0.   , 0.   , 0.   , 0.   , 0.   , 0.   ],\n",
              "       [0.   , 0.   , 0.   , 0.   , 0.   , 0.   , 0.   , 0.   , 0.09 ,\n",
              "        0.   , 1.   , 0.162, 0.   , 0.   , 0.   , 0.   , 0.   ],\n",
              "       [0.   , 0.014, 0.   , 0.185, 0.031, 0.089, 0.033, 0.104, 0.178,\n",
              "        0.   , 0.162, 1.   , 0.028, 0.   , 0.   , 0.029, 0.027],\n",
              "       [0.   , 0.02 , 0.   , 0.037, 0.043, 0.036, 0.046, 0.   , 0.   ,\n",
              "        0.   , 0.   , 0.028, 1.   , 0.154, 0.187, 0.128, 0.157],\n",
              "       [0.   , 0.   , 0.07 , 0.   , 0.   , 0.   , 0.   , 0.   , 0.   ,\n",
              "        0.   , 0.   , 0.   , 0.154, 1.   , 0.264, 0.073, 0.   ],\n",
              "       [0.   , 0.   , 0.   , 0.   , 0.   , 0.   , 0.   , 0.   , 0.   ,\n",
              "        0.   , 0.   , 0.   , 0.187, 0.264, 1.   , 0.088, 0.   ],\n",
              "       [0.072, 0.211, 0.069, 0.038, 0.045, 0.038, 0.048, 0.   , 0.   ,\n",
              "        0.   , 0.   , 0.029, 0.128, 0.073, 0.088, 1.   , 0.04 ],\n",
              "       [0.   , 0.019, 0.   , 0.035, 0.041, 0.035, 0.044, 0.078, 0.   ,\n",
              "        0.   , 0.   , 0.027, 0.157, 0.   , 0.   , 0.04 , 1.   ]])"
            ]
          },
          "metadata": {},
          "execution_count": 17
        }
      ],
      "source": [
        "similarity_matrix = np.matmul(dt_matrix, dt_matrix.T)\n",
        "print(similarity_matrix.shape)\n",
        "np.round(similarity_matrix, 3)"
      ]
    },
    {
      "cell_type": "code",
      "execution_count": null,
      "metadata": {
        "id": "AnfI3scUvkOD",
        "outputId": "77623a04-20bd-4189-f623-e045aad00c94",
        "colab": {
          "base_uri": "https://localhost:8080/"
        }
      },
      "outputs": [
        {
          "output_type": "execute_result",
          "data": {
            "text/plain": [
              "<networkx.classes.graph.Graph at 0x7f4012040090>"
            ]
          },
          "metadata": {},
          "execution_count": 18
        }
      ],
      "source": [
        "import networkx\n",
        "\n",
        "similarity_graph = networkx.from_numpy_array(similarity_matrix)\n",
        "similarity_graph"
      ]
    },
    {
      "cell_type": "code",
      "execution_count": null,
      "metadata": {
        "id": "PvbJtujovkOE",
        "outputId": "49e170f2-58ab-42a7-bcad-fab01c91c091",
        "colab": {
          "base_uri": "https://localhost:8080/",
          "height": 357
        }
      },
      "outputs": [
        {
          "output_type": "display_data",
          "data": {
            "text/plain": [
              "<Figure size 864x432 with 1 Axes>"
            ],
            "image/png": "[encoded data removed]"
          },
          "metadata": {}
        }
      ],
      "source": [
        "import matplotlib.pyplot as plt\n",
        "%matplotlib inline\n",
        "\n",
        "plt.figure(figsize=(12, 6))\n",
        "networkx.draw_networkx(similarity_graph, node_color='lime')"
      ]
    },
    {
      "cell_type": "code",
      "execution_count": null,
      "metadata": {
        "id": "l4FP_muYvkOE",
        "outputId": "22c994ef-c108-45cb-cb03-5e2dad06faaa",
        "colab": {
          "base_uri": "https://localhost:8080/"
        }
      },
      "outputs": [
        {
          "output_type": "execute_result",
          "data": {
            "text/plain": [
              "[(0.07096276668374853, 11),\n",
              " (0.06915206774482767, 15),\n",
              " (0.06670526816668401, 12),\n",
              " (0.06279006038232754, 6),\n",
              " (0.06075643912073288, 3),\n",
              " (0.06019335678256841, 5),\n",
              " (0.05906718876720181, 1),\n",
              " (0.058789107008228446, 13),\n",
              " (0.05763411167745769, 14),\n",
              " (0.05740741434982804, 16)]"
            ]
          },
          "metadata": {},
          "execution_count": 20
        }
      ],
      "source": [
        "scores = networkx.pagerank(similarity_graph)\n",
        "ranked_sentences = sorted(((score, index) for index, score \n",
        "                                            in scores.items()), \n",
        "                          reverse=True)\n",
        "ranked_sentences[:10]"
      ]
    },
    {
      "cell_type": "code",
      "execution_count": null,
      "metadata": {
        "id": "geHuStqjvkOF"
      },
      "outputs": [],
      "source": [
        "top_sentence_indices = [ranked_sentences[index][1] \n",
        "                        for index in range(num_sentences)]\n",
        "top_sentence_indices.sort()"
      ]
    },
    {
      "cell_type": "code",
      "execution_count": null,
      "metadata": {
        "id": "aP6DbIc7vkOG",
        "outputId": "fd31bcd7-4882-4633-d772-812f870e3432",
        "colab": {
          "base_uri": "https://localhost:8080/"
        }
      },
      "outputs": [
        {
          "output_type": "stream",
          "name": "stdout",
          "text": [
            "Parents and teachers are becoming concerned by the effects of Instant messaging on the teenagers, who spend on average 31 hours a week online according to a survey done by (telegraph), which most of the time is spent chatting with friends on MSN, YOUTUBE and online chat rooms.\n",
            "Most of the students end up wasting their time in unproductive activities that have no learning outcomes or benefits.\n",
            "Students take a five-minute break while studying but by the time they return it’s already been an hour.\n",
            "Another one is that some students are not serious about time management.\n",
            "Also, make sure you have all your study essentials next to you before you settle down to study so as not to end up wasting time looking for them once you start studying.\n",
            "It is a waste of time to log into social media sites if they are not your top interest.\n",
            "The challenge with the young generation is that they can't tell when they become addicts to social media networking.\n",
            "It's paramount to spend some time chatting with friends on social issues in life.\n"
          ]
        }
      ],
      "source": [
        "print('\\n'.join(np.array(sentences)[top_sentence_indices]))"
      ]
    },
    {
      "cell_type": "code",
      "source": [],
      "metadata": {
        "id": "SmzCVkoO1K5D"
      },
      "execution_count": null,
      "outputs": []
    }
  ],
  "metadata": {
    "kernelspec": {
      "display_name": "Python 3.10.0 ('env': venv)",
      "language": "python",
      "name": "python3"
    },
    "language_info": {
      "codemirror_mode": {
        "name": "ipython",
        "version": 3
      },
      "file_extension": ".py",
      "mimetype": "text/x-python",
      "name": "python",
      "nbconvert_exporter": "python",
      "pygments_lexer": "ipython3",
      "version": "3.10.0"
    },
    "vscode": {
      "interpreter": {
        "hash": "87fadee8c81eb19ccd061597e7221ffa36addf2d72c1b2689cbd41aa0f722cb4"
      }
    },
    "colab": {
      "provenance": [],
      "include_colab_link": true
    }
  },
  "nbformat": 4,
  "nbformat_minor": 0
}